{
  "nbformat": 4,
  "nbformat_minor": 0,
  "metadata": {
    "colab": {
      "name": "basic01.ipynb",
      "provenance": [],
      "collapsed_sections": [],
      "authorship_tag": "ABX9TyMpW6sA5OE9fnFDPMAVy+ET",
      "include_colab_link": true
    },
    "kernelspec": {
      "name": "python3",
      "display_name": "Python 3"
    }
  },
  "cells": [
    {
      "cell_type": "markdown",
      "metadata": {
        "id": "view-in-github",
        "colab_type": "text"
      },
      "source": [
        "<a href=\"https://colab.research.google.com/github/AMendezCerquera/GoogleNotebooks/blob/main/basic01.ipynb\" target=\"_parent\"><img src=\"https://colab.research.google.com/assets/colab-badge.svg\" alt=\"Open In Colab\"/></a>"
      ]
    },
    {
      "cell_type": "markdown",
      "metadata": {
        "id": "cd8RA9cnMPcO"
      },
      "source": [
        "Create five variables"
      ]
    },
    {
      "cell_type": "code",
      "metadata": {
        "id": "pPGC_h7_MPxG"
      },
      "source": [
        "first_name = 'Alejandro'\r\n",
        "firstName = 'Alejandro'\r\n",
        "FirstName = 'Alejandro'\r\n",
        "FIRSTNAME = 'Alejandro'"
      ],
      "execution_count": null,
      "outputs": []
    },
    {
      "cell_type": "code",
      "metadata": {
        "colab": {
          "base_uri": "https://localhost:8080/"
        },
        "id": "gCp_GQlrNAL8",
        "outputId": "8f1c39c2-8aed-4139-f928-63d0fb0cf453"
      },
      "source": [
        "print(first_name)\r\n",
        "print(firstName)\r\n",
        "print(FirstName)\r\n",
        "print(FIRSTNAME)"
      ],
      "execution_count": null,
      "outputs": [
        {
          "output_type": "stream",
          "text": [
            "Alejandro\n",
            "Alejandro\n",
            "Alejandro\n",
            "Alejandro\n"
          ],
          "name": "stdout"
        }
      ]
    },
    {
      "cell_type": "markdown",
      "metadata": {
        "id": "XMpA-jX6N25x"
      },
      "source": [
        "Create 10 Last Name Variables"
      ]
    },
    {
      "cell_type": "code",
      "metadata": {
        "id": "EFFvTdsMNw1H"
      },
      "source": [
        "last_name1 = \"Mendez\"\r\n",
        "last_name2 = \"Dufus\"\r\n",
        "last_name3 = \"Silver\"\r\n",
        "last_name4 = \"Joker\"\r\n",
        "last_name5 = \"Lopez\"\r\n",
        "last_name6 = \"Garcia\"\r\n",
        "last_name7 = \"Gomez\"\r\n",
        "last_name8 = \"Cerquera\"\r\n",
        "last_name9 = \"Garzuzo\"\r\n",
        "last_name10 = \"Gaitan\""
      ],
      "execution_count": null,
      "outputs": []
    },
    {
      "cell_type": "markdown",
      "metadata": {
        "id": "xqOwcfsCQhLv"
      },
      "source": [
        "Using a for loop to print all the Last Names"
      ]
    },
    {
      "cell_type": "code",
      "metadata": {
        "colab": {
          "base_uri": "https://localhost:8080/"
        },
        "id": "VdCgIMchOY6d",
        "outputId": "3b46d402-57dc-4dc6-ef79-47a2a4fb3389"
      },
      "source": [
        "for x in range (1, 11):\r\n",
        "  currentVariable = \"last_name\" + str(x)\r\n",
        "  print (globals()[currentVariable])"
      ],
      "execution_count": null,
      "outputs": [
        {
          "output_type": "stream",
          "text": [
            "Mendez\n",
            "Dufus\n",
            "Silver\n",
            "Joker\n",
            "Lopez\n",
            "Garcia\n",
            "Gomez\n",
            "Cerquera\n",
            "Garzuzo\n",
            "Gaitan\n"
          ],
          "name": "stdout"
        }
      ]
    },
    {
      "cell_type": "markdown",
      "metadata": {
        "id": "IhmJ5HPlZrnF"
      },
      "source": [
        "Create 10 Lists, 10 Bool and 10 Floats"
      ]
    },
    {
      "cell_type": "code",
      "metadata": {
        "id": "Y1bvgOarZsoF"
      },
      "source": [
        "#Creating 10 Lists\r\n",
        "list1 = [True, False, True]\r\n",
        "list2 = [\"1\", \"2\", \"3\"]\r\n",
        "list3 = [1, 2, 3, 4]\r\n",
        "list4 = [[1, 2] , [3, 4]]\r\n",
        "list5 = [\"cold\", \"hot\"]\r\n",
        "list6 = [1, \"warm\", 3]\r\n",
        "list7 = [3.14, 3.1416]\r\n",
        "list8 = [\"True\", False]\r\n",
        "list9 = [9, \"9\"]\r\n",
        "\r\n",
        "studying = True\r\n",
        "working = False\r\n",
        "#List of two variables\r\n",
        "list10 = [studying, working]\r\n",
        "\r\n",
        "#Creating 10 Bools\r\n",
        "hungry = True \r\n",
        "sleepy = True\r\n",
        "tired = True\r\n",
        "happy = True\r\n",
        "true = True\r\n",
        "false = False\r\n",
        "playingMusic = True\r\n",
        "haveWorkToday = True\r\n",
        "\r\n",
        "#Creating 10 Floats\r\n",
        "float1 = 3.14\r\n",
        "float2 = 3.1\r\n",
        "float3 = 1.68\r\n",
        "float4 = 0.12\r\n",
        "float5 = 0.21\r\n",
        "float6 = 3.146\r\n",
        "float7 = 3.12\r\n",
        "float8 = 1.683\r\n",
        "float9 = 0.124\r\n",
        "float10 = 0.215"
      ],
      "execution_count": 1,
      "outputs": []
    },
    {
      "cell_type": "code",
      "metadata": {
        "id": "b7l-jc7abLVq",
        "colab": {
          "base_uri": "https://localhost:8080/"
        },
        "outputId": "32b800e4-952f-4cf4-a667-771fa2fef238"
      },
      "source": [
        "myDict = {\"key1\":\"value1\", \"key2\":\"value2\", \"key3\":\"value3\"}\r\n",
        "myDict"
      ],
      "execution_count": 4,
      "outputs": [
        {
          "output_type": "execute_result",
          "data": {
            "text/plain": [
              "{'key1': 'value1', 'key2': 'value2', 'key3': 'value3'}"
            ]
          },
          "metadata": {
            "tags": []
          },
          "execution_count": 4
        }
      ]
    },
    {
      "cell_type": "code",
      "metadata": {
        "colab": {
          "base_uri": "https://localhost:8080/"
        },
        "id": "w670OGDgjFLy",
        "outputId": "32f8d24f-69f3-4485-ffdf-1d32f9cb6838"
      },
      "source": [
        "type(myDict)"
      ],
      "execution_count": 5,
      "outputs": [
        {
          "output_type": "execute_result",
          "data": {
            "text/plain": [
              "dict"
            ]
          },
          "metadata": {
            "tags": []
          },
          "execution_count": 5
        }
      ]
    },
    {
      "cell_type": "markdown",
      "metadata": {
        "id": "GSxEjDIpjQh9"
      },
      "source": [
        "Create: <br>\r\n",
        "dict1 = 10 foods <br>\r\n",
        "dict2 = 10 people names <br>\r\n",
        "dict3 = 5 sports players"
      ]
    },
    {
      "cell_type": "code",
      "metadata": {
        "colab": {
          "base_uri": "https://localhost:8080/"
        },
        "id": "RNzsm9XgjNB2",
        "outputId": "40710ea1-be03-4920-90d5-9b49ca8ffd3a"
      },
      "source": [
        "dict1 = {\"food1\":\"Pizza\", \"food2\":\"Spaghetti\", \"food3\":\"Lasagna\", \"food4\":\"Bandeja Paisa\", \"food5\":\"Rice and Beans\", \"food6\":\"Rice and Chicken\", \"food7\":\"Rice and Eggs\"\r\n",
        ", \"food8\":\"Rice\", \"food9\":\"Bento\", \"food10\":\"Miso Soup\"}\r\n",
        "dict1"
      ],
      "execution_count": 10,
      "outputs": [
        {
          "output_type": "execute_result",
          "data": {
            "text/plain": [
              "{'food1': 'Pizza',\n",
              " 'food10': 'Miso Soup',\n",
              " 'food2': 'Spaghetti',\n",
              " 'food3': 'Lasagna',\n",
              " 'food4': 'Bandeja Paisa',\n",
              " 'food5': 'Rice and Beans',\n",
              " 'food6': 'Rice and Chicken',\n",
              " 'food7': 'Rice and Eggs',\n",
              " 'food8': 'Rice',\n",
              " 'food9': 'Bento'}"
            ]
          },
          "metadata": {
            "tags": []
          },
          "execution_count": 10
        }
      ]
    },
    {
      "cell_type": "code",
      "metadata": {
        "colab": {
          "base_uri": "https://localhost:8080/"
        },
        "id": "MNW2QHI2kmDa",
        "outputId": "4afd3f14-76ab-453f-d614-c0fc171e5151"
      },
      "source": [
        "dict2 = {\"name1\":\"Alejandro\", \"name2\":\"Glope\", \"name3\":\"Genghis\", \"name4\":\"Ace\", \"name5\":\"Marc\", \"name6\":\"Mohsin\", \"name7\":\"MJ\", \"name8\":\"Sofia\", \"name9\":\"Andrea\",\r\n",
        "         \"name10\":\"Irving\"}\r\n",
        "dict2"
      ],
      "execution_count": 9,
      "outputs": [
        {
          "output_type": "execute_result",
          "data": {
            "text/plain": [
              "{'name1': 'Alejandro',\n",
              " 'name10': 'Irving',\n",
              " 'name2': 'Glope',\n",
              " 'name3': 'Genghis',\n",
              " 'name4': 'Ace',\n",
              " 'name5': 'Marc',\n",
              " 'name6': 'Mohsin',\n",
              " 'name7': 'MJ',\n",
              " 'name8': 'Sofia',\n",
              " 'name9': 'Andrea'}"
            ]
          },
          "metadata": {
            "tags": []
          },
          "execution_count": 9
        }
      ]
    },
    {
      "cell_type": "code",
      "metadata": {
        "colab": {
          "base_uri": "https://localhost:8080/"
        },
        "id": "odFdnnsrll9_",
        "outputId": "28f15055-de6d-4b38-e03d-e91ce48a2aab"
      },
      "source": [
        "dict3 = {\"soccerPlayer1\":\"Lionel Messi\", \"soccerPlayer2\":\"Cristiano Ronaldo\", \"soccerPlayer3\":\"Ronaldinho\", \"soccerPlayer4\":\"Neymar\", \"soccerPlayer5\":\"Marc ter Stegen\"}\r\n",
        "dict3"
      ],
      "execution_count": 11,
      "outputs": [
        {
          "output_type": "execute_result",
          "data": {
            "text/plain": [
              "{'soccerPlayer1': 'Lionel Messi',\n",
              " 'soccerPlayer2': 'Cristiano Ronaldo',\n",
              " 'soccerPlayer3': 'Ronaldinho',\n",
              " 'soccerPlayer4': 'Neymar',\n",
              " 'soccerPlayer5': 'Marc ter Stegen'}"
            ]
          },
          "metadata": {
            "tags": []
          },
          "execution_count": 11
        }
      ]
    }
  ]
}