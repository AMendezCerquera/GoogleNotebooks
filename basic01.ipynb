{
  "nbformat": 4,
  "nbformat_minor": 0,
  "metadata": {
    "colab": {
      "name": "basic01.ipynb",
      "provenance": [],
      "collapsed_sections": [],
      "authorship_tag": "ABX9TyMKOVRMHDpuc8jAa9fF+HyC",
      "include_colab_link": true
    },
    "kernelspec": {
      "name": "python3",
      "display_name": "Python 3"
    }
  },
  "cells": [
    {
      "cell_type": "markdown",
      "metadata": {
        "id": "view-in-github",
        "colab_type": "text"
      },
      "source": [
        "<a href=\"https://colab.research.google.com/github/AMendezCerquera/GoogleNotebooks/blob/main/basic01.ipynb\" target=\"_parent\"><img src=\"https://colab.research.google.com/assets/colab-badge.svg\" alt=\"Open In Colab\"/></a>"
      ]
    },
    {
      "cell_type": "markdown",
      "metadata": {
        "id": "cd8RA9cnMPcO"
      },
      "source": [
        "Create five variables"
      ]
    },
    {
      "cell_type": "code",
      "metadata": {
        "id": "pPGC_h7_MPxG"
      },
      "source": [
        "first_name = 'Alejandro'\r\n",
        "firstName = 'Alejandro'\r\n",
        "FirstName = 'Alejandro'\r\n",
        "FIRSTNAME = 'Alejandro'"
      ],
      "execution_count": null,
      "outputs": []
    },
    {
      "cell_type": "code",
      "metadata": {
        "colab": {
          "base_uri": "https://localhost:8080/"
        },
        "id": "gCp_GQlrNAL8",
        "outputId": "8f1c39c2-8aed-4139-f928-63d0fb0cf453"
      },
      "source": [
        "print(first_name)\r\n",
        "print(firstName)\r\n",
        "print(FirstName)\r\n",
        "print(FIRSTNAME)"
      ],
      "execution_count": null,
      "outputs": [
        {
          "output_type": "stream",
          "text": [
            "Alejandro\n",
            "Alejandro\n",
            "Alejandro\n",
            "Alejandro\n"
          ],
          "name": "stdout"
        }
      ]
    },
    {
      "cell_type": "markdown",
      "metadata": {
        "id": "XMpA-jX6N25x"
      },
      "source": [
        "Create 10 Last Name Variables"
      ]
    },
    {
      "cell_type": "code",
      "metadata": {
        "id": "EFFvTdsMNw1H"
      },
      "source": [
        "last_name1 = \"Mendez\"\r\n",
        "last_name2 = \"Dufus\"\r\n",
        "last_name3 = \"Silver\"\r\n",
        "last_name4 = \"Joker\"\r\n",
        "last_name5 = \"Lopez\"\r\n",
        "last_name6 = \"Garcia\"\r\n",
        "last_name7 = \"Gomez\"\r\n",
        "last_name8 = \"Cerquera\"\r\n",
        "last_name9 = \"Garzuzo\"\r\n",
        "last_name10 = \"Gaitan\""
      ],
      "execution_count": null,
      "outputs": []
    },
    {
      "cell_type": "markdown",
      "metadata": {
        "id": "xqOwcfsCQhLv"
      },
      "source": [
        "Using a for loop to print all the Last Names"
      ]
    },
    {
      "cell_type": "code",
      "metadata": {
        "colab": {
          "base_uri": "https://localhost:8080/"
        },
        "id": "VdCgIMchOY6d",
        "outputId": "3b46d402-57dc-4dc6-ef79-47a2a4fb3389"
      },
      "source": [
        "for x in range (1, 11):\r\n",
        "  currentVariable = \"last_name\" + str(x)\r\n",
        "  print (globals()[currentVariable])"
      ],
      "execution_count": null,
      "outputs": [
        {
          "output_type": "stream",
          "text": [
            "Mendez\n",
            "Dufus\n",
            "Silver\n",
            "Joker\n",
            "Lopez\n",
            "Garcia\n",
            "Gomez\n",
            "Cerquera\n",
            "Garzuzo\n",
            "Gaitan\n"
          ],
          "name": "stdout"
        }
      ]
    },
    {
      "cell_type": "markdown",
      "metadata": {
        "id": "IhmJ5HPlZrnF"
      },
      "source": [
        "Create 10 Lists, 10 Bool and 10 Floats"
      ]
    },
    {
      "cell_type": "code",
      "metadata": {
        "id": "Y1bvgOarZsoF"
      },
      "source": [
        "list1 = [True, False, True]\r\n",
        "list2 = [\"1\", \"2\", \"3\"]\r\n",
        "list3 = [1, 2, 3, 4]\r\n",
        "list4 = [[1, 2] , [3, 4]]\r\n",
        "list5 = [\"cold\", \"hot\"]\r\n",
        "list6 = [1, \"warm\", 3]\r\n",
        "list7 = [3.14, 3.1416]\r\n",
        "list8 = [\"True\", False]\r\n",
        "list9 = [9, \"9\"]\r\n",
        "\r\n",
        "studying = True\r\n",
        "working = False\r\n",
        "\r\n",
        "list10 = [studying, working]\r\n",
        "\r\n",
        "hungry = True\r\n",
        "sleepy = True\r\n",
        "tired = True\r\n",
        "happy = True\r\n",
        "\r\n",
        "float1 = 3.14\r\n",
        "float2 = 3.1\r\n",
        "float3 = 1.68\r\n",
        "float4 = 0.12\r\n",
        "float5 = 0.21"
      ],
      "execution_count": null,
      "outputs": []
    },
    {
      "cell_type": "code",
      "metadata": {
        "id": "b7l-jc7abLVq"
      },
      "source": [
        ""
      ],
      "execution_count": null,
      "outputs": []
    }
  ]
}